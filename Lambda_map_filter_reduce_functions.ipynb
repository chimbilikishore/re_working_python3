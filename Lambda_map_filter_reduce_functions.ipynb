{
 "cells": [
  {
   "cell_type": "markdown",
   "metadata": {},
   "source": [
    "# Lambda , Map, Filter, Reduce Functions"
   ]
  },
  {
   "cell_type": "markdown",
   "metadata": {},
   "source": [
    "# Lambda function:\n",
    "\n",
    "- A simple 1-line functon\n",
    "- Do not use def or return keyword (These are implicit)\n"
   ]
  },
  {
   "cell_type": "markdown",
   "metadata": {},
   "source": [
    "# lambda x = 2 * x\n",
    " - where x is parameter(s)\n",
    " - 2 * x is return value"
   ]
  },
  {
   "cell_type": "markdown",
   "metadata": {},
   "source": [
    "# add x,y : Traditional function:\n",
    "\n",
    "#add x and y\n",
    "\n",
    " - def add (x,y):\n",
    " - return x+y"
   ]
  },
  {
   "cell_type": "code",
   "execution_count": 2,
   "metadata": {},
   "outputs": [],
   "source": [
    "#simple lambda function:\n",
    "\n",
    "#  lambda x,y : x + y"
   ]
  },
  {
   "cell_type": "code",
   "execution_count": 3,
   "metadata": {},
   "outputs": [
    {
     "name": "stdout",
     "output_type": "stream",
     "text": [
      "7\n"
     ]
    }
   ],
   "source": [
    "# function for max num:\n",
    "\n",
    "mx = lambda x,y : x if x>y else y\n",
    "\n",
    "print(max(7,5))"
   ]
  },
  {
   "cell_type": "markdown",
   "metadata": {},
   "source": [
    "# Map function:\n",
    "\n",
    "- Apply same function to each element of sequence \n",
    "- Return the modified list\n",
    "\n",
    "- List, [m,n,p]\n",
    "- function, f() ---> map --> new list, [f(m),f(n),f(p)]\n"
   ]
  },
  {
   "cell_type": "code",
   "execution_count": 21,
   "metadata": {},
   "outputs": [
    {
     "name": "stdout",
     "output_type": "stream",
     "text": [
      "[16, 9, 4, 1]\n"
     ]
    }
   ],
   "source": [
    "# standard way to square elements in list:\n",
    "\n",
    "l1 = [4,3,2,1]\n",
    "\n",
    "def square (l1):\n",
    "    lst2 = []\n",
    "    for num in l1:\n",
    "        lst2.append(num ** 2)\n",
    "    return lst2\n",
    "\n",
    "print(square(l1))"
   ]
  },
  {
   "cell_type": "code",
   "execution_count": 33,
   "metadata": {},
   "outputs": [
    {
     "name": "stdout",
     "output_type": "stream",
     "text": [
      "[16, 9, 4, 1]\n"
     ]
    }
   ],
   "source": [
    "# map function:\n",
    "\n",
    "l1 = [4,3,2,1]\n",
    "\n",
    "square = list(map(lambda x : x ** 2,l1))\n",
    "\n",
    "print (square)"
   ]
  },
  {
   "cell_type": "code",
   "execution_count": 39,
   "metadata": {},
   "outputs": [
    {
     "name": "stdout",
     "output_type": "stream",
     "text": [
      "[16, 9, 4, 1]\n"
     ]
    }
   ],
   "source": [
    "print (list((x ** 2) for x in l1)) #comprehension solution"
   ]
  },
  {
   "cell_type": "code",
   "execution_count": 40,
   "metadata": {},
   "outputs": [
    {
     "name": "stdout",
     "output_type": "stream",
     "text": [
      "[16, 9, 4, 1]\n"
     ]
    }
   ],
   "source": [
    "print ([x ** 2 for x in l1])"
   ]
  },
  {
   "cell_type": "markdown",
   "metadata": {},
   "source": [
    "# Filter function:\n",
    "\n",
    "- filter items out of sequence\n",
    "- Retun filtered list"
   ]
  },
  {
   "cell_type": "code",
   "execution_count": 41,
   "metadata": {},
   "outputs": [
    {
     "data": {
      "text/plain": [
       "[4, 3, 2, 1]"
      ]
     },
     "execution_count": 41,
     "metadata": {},
     "output_type": "execute_result"
    }
   ],
   "source": [
    "l1"
   ]
  },
  {
   "cell_type": "code",
   "execution_count": 45,
   "metadata": {},
   "outputs": [
    {
     "name": "stdout",
     "output_type": "stream",
     "text": [
      "[4, 3]\n"
     ]
    }
   ],
   "source": [
    "print(list(filter(lambda x : x > 2 , l1)))"
   ]
  },
  {
   "cell_type": "code",
   "execution_count": 47,
   "metadata": {},
   "outputs": [
    {
     "name": "stdout",
     "output_type": "stream",
     "text": [
      "[4, 3]\n"
     ]
    }
   ],
   "source": [
    "# list comprehension\n",
    "\n",
    "print ([x for x in l1 if x > 2])"
   ]
  },
  {
   "cell_type": "markdown",
   "metadata": {},
   "source": [
    "# Reduce function:\n",
    "\n",
    "- applies same operation to items of sequence\n",
    "- use result of operation as first parm of next operatiion\n",
    "- Return an item, not a list"
   ]
  },
  {
   "cell_type": "code",
   "execution_count": 55,
   "metadata": {},
   "outputs": [
    {
     "name": "stdout",
     "output_type": "stream",
     "text": [
      "24\n"
     ]
    }
   ],
   "source": [
    "#mutiply number in list:\n",
    "from functools import reduce\n",
    "\n",
    "l1 = [4,3,2,1]\n",
    "print(reduce(lambda x,y : x * y, l1))"
   ]
  }
 ],
 "metadata": {
  "kernelspec": {
   "display_name": "Python 3",
   "language": "python",
   "name": "python3"
  },
  "language_info": {
   "codemirror_mode": {
    "name": "ipython",
    "version": 3
   },
   "file_extension": ".py",
   "mimetype": "text/x-python",
   "name": "python",
   "nbconvert_exporter": "python",
   "pygments_lexer": "ipython3",
   "version": "3.7.1"
  }
 },
 "nbformat": 4,
 "nbformat_minor": 2
}
